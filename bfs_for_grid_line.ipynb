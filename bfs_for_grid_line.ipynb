{
  "nbformat": 4,
  "nbformat_minor": 0,
  "metadata": {
    "colab": {
      "provenance": []
    },
    "kernelspec": {
      "name": "python3",
      "display_name": "Python 3"
    },
    "language_info": {
      "name": "python"
    }
  },
  "cells": [
    {
      "cell_type": "code",
      "execution_count": null,
      "metadata": {
        "colab": {
          "base_uri": "https://localhost:8080/"
        },
        "id": "E9nXjvC8HE2b",
        "outputId": "6e459c16-496d-4f5b-a312-3f11a06bd7d7"
      },
      "outputs": [
        {
          "output_type": "stream",
          "name": "stdout",
          "text": [
            "Path from robot to cube:\n",
            "None\n"
          ]
        }
      ],
      "source": [
        "from collections import deque\n",
        "grid = [\n",
        "    [0, 0, 1, 0, 1],\n",
        "    [0, 1, 1, 0, 1],\n",
        "    [0, 1, 0, 0, 1],\n",
        "    [1, 1, 1, 0, 1],\n",
        "    [1, 0, 0, 0, 1]\n",
        "]\n",
        "\n",
        "start = (0, 2)\n",
        "goal = (4, 2)\n",
        "\n",
        "directions = [(-1, 0), (1, 0), (0, -1), (0, 1)]\n",
        "\n",
        "def bfs(grid, start, goal):\n",
        "    rows, cols = len(grid), len(grid[0])\n",
        "    visited = set()\n",
        "    queue = deque()\n",
        "    queue.append((start, [start]))\n",
        "\n",
        "    while queue:\n",
        "        (row, col), path = queue.popleft()\n",
        "\n",
        "        if (row, col) == goal:\n",
        "            return path\n",
        "\n",
        "        for dr, dc in directions:\n",
        "            r, c = row + dr, col + dc\n",
        "\n",
        "            if (0 <= r < rows and 0 <= c < cols and\n",
        "                grid[r][c] == 1 and (r, c) not in visited):\n",
        "                visited.add((r, c))\n",
        "                queue.append(((r, c), path + [(r, c)]))\n",
        "\n",
        "    return None\n",
        "\n",
        "path = bfs(grid, start, goal)\n",
        "print(\"Path from robot to cube:\")\n",
        "print(path)\n"
      ]
    },
    {
      "cell_type": "code",
      "source": [
        "def dls(adj_matrix, node, goal, depth, max_depth, visited, path):\n",
        "    if depth > max_depth:\n",
        "        return False\n",
        "\n",
        "    visited[node] = True\n",
        "    path.append(node + 1)  # convert to 1-based for display\n",
        "\n",
        "    if node == goal:\n",
        "        return True\n",
        "\n",
        "    for neighbor in range(len(adj_matrix)):\n",
        "        if adj_matrix[node][neighbor] == 1 and not visited[neighbor]:\n",
        "            if dls(adj_matrix, neighbor, goal, depth + 1, max_depth, visited, path):\n",
        "                return True\n",
        "\n",
        "    return False\n",
        "\n",
        "\n",
        "def iddfs(adj_matrix, start, goal):\n",
        "    n = len(adj_matrix)\n",
        "    print(\"At Depth 0\")\n",
        "    print(start + 1)\n",
        "\n",
        "    for depth in range(n):\n",
        "        visited = [False] * n\n",
        "        path = []\n",
        "        print(f\"At Depth {depth + 1}\")\n",
        "        if dls(adj_matrix, start, goal, 0, depth + 1, visited, path):\n",
        "            print(\" \".join(map(str, path)))\n",
        "            print(f\"Goal Found at depth {depth + 1}\")\n",
        "            return\n",
        "        else:\n",
        "            print(\" \".join(map(str, path)))\n",
        "    print(\"Goal not found.\")\n",
        "\n",
        "\n",
        "# Input from user\n",
        "n = int(input(\"Enter the number of nodes in the graph\\n\"))\n",
        "\n",
        "print(\"Enter the adjacency matrix\")\n",
        "adj_matrix = []\n",
        "for _ in range(n):\n",
        "    adj_matrix.append(list(map(int, input().split())))\n",
        "\n",
        "goal_node = int(input(\"Enter the destination for the graph\\n\")) - 1  # convert to 0-based indexing\n",
        "start_node = 0  # assuming start node is node 1 (index 0)\n",
        "\n",
        "iddfs(adj_matrix, start_node, goal_node)\n"
      ],
      "metadata": {
        "colab": {
          "base_uri": "https://localhost:8080/"
        },
        "id": "MAUynrVpVPPR",
        "outputId": "b0d2aa73-57be-44c0-bb2b-681d076a02b7"
      },
      "execution_count": null,
      "outputs": [
        {
          "output_type": "stream",
          "name": "stdout",
          "text": [
            "Enter the number of nodes in the graph\n",
            "7\n",
            "Enter the adjacency matrix\n",
            "1 0 0 1 1 0 0 \n",
            "0 0 0 1 1 0 1\n",
            "1 1 0 1 1 0 0\n",
            "0 1 1 0 0 1 0\n",
            "1 0 1 0 0 1 0\n",
            "0 0 1 1 0 1 0 \n",
            "0 1 0 1 0 1 0\n",
            "Enter the destination for the graph\n",
            "5\n",
            "At Depth 0\n",
            "1\n",
            "At Depth 1\n",
            "1 4 5\n",
            "Goal Found at depth 1\n"
          ]
        }
      ]
    },
    {
      "cell_type": "code",
      "source": [
        "def print_solution(board):\n",
        "    for row in board:\n",
        "        print(\" \".join(\"Q\" if col else \".\" for col in row))\n",
        "    print(\"\\n\")\n",
        "\n",
        "def is_safe(board, row, col, n):\n",
        "    for i in range(row):\n",
        "        if board[i][col] == 1:\n",
        "            return False\n",
        "\n",
        "    i, j = row, col\n",
        "    while i >= 0 and j >= 0:\n",
        "        if board[i][j] == 1:\n",
        "            return False\n",
        "        i -= 1\n",
        "        j -= 1\n",
        "\n",
        "    i, j = row, col\n",
        "    while i >= 0 and j < n:\n",
        "        if board[i][j] == 1:\n",
        "            return False\n",
        "        i -= 1\n",
        "        j += 1\n",
        "\n",
        "    return True\n",
        "\n",
        "def solve_n_queens_util(board, row, n):\n",
        "    if row == n:\n",
        "        print_solution(board)\n",
        "        return True\n",
        "\n",
        "    res = False\n",
        "    for col in range(n):\n",
        "        if is_safe(board, row, col, n):\n",
        "            board[row][col] = 1\n",
        "            res = solve_n_queens_util(board, row + 1, n) or res\n",
        "            board[row][col] = 0\n",
        "    return res\n",
        "\n",
        "def solve_n_queens(n):\n",
        "    board = [[0] * n for _ in range(n)]\n",
        "    if not solve_n_queens_util(board, 0, n):\n",
        "        print(\"No solution exists.\")\n",
        "    else:\n",
        "        print(f\"Solutions for {n}-Queens problem shown above.\")\n",
        "\n",
        "n = int(input(\"Enter the value of N for the N-Queens problem: \"))\n",
        "solve_n_queens(n)\n"
      ],
      "metadata": {
        "colab": {
          "base_uri": "https://localhost:8080/"
        },
        "id": "rs4rIkuTK-aR",
        "outputId": "82fdb520-796d-471f-fa6c-d4d475498ce6"
      },
      "execution_count": null,
      "outputs": [
        {
          "output_type": "stream",
          "name": "stdout",
          "text": [
            "Enter the value of N for the N-Queens problem: 4\n",
            ". Q . .\n",
            ". . . Q\n",
            "Q . . .\n",
            ". . Q .\n",
            "\n",
            "\n",
            ". . Q .\n",
            "Q . . .\n",
            ". . . Q\n",
            ". Q . .\n",
            "\n",
            "\n",
            "Solutions for 4-Queens problem shown above.\n"
          ]
        }
      ]
    }
  ]
}